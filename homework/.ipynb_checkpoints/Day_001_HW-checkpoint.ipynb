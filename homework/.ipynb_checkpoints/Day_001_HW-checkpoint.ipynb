{
 "cells": [
  {
   "cell_type": "code",
   "execution_count": null,
   "metadata": {},
   "outputs": [],
   "source": [
    "作業1：\n",
    "1. 你選的這組資料為何重要: 若能增加機器辨認出轉移性癌細胞的機率，就能提早治療癌症病患，有效降低死亡率。\n",
    "\n",
    "2. 資料從何而來:Bas Veeling(荷蘭一位博士生)提供的PatchCamelyon benchmark dataset\n",
    "\n",
    "3. 蒐集而來的資料型態為何:組織細胞圖，非結構化\n",
    "\n",
    "4. 這組資料想解決的問題如何評估：如何提高辨認轉移性癌細胞的Accuracy"
   ]
  },
  {
   "cell_type": "code",
   "execution_count": null,
   "metadata": {},
   "outputs": [],
   "source": [
    "作業2：\n",
    "1. 核心問題為何:如何提升載客量\n",
    "\n",
    "2. 資料從何而來:計程車公司過去的行駛資料(包含價格,車型,候車時間,客人密度)  \n",
    "\n",
    "3. 蒐集而來的資料型態為何：結構化與非結構化皆有：數值、文字\n",
    "\n",
    "4. 你要回答的問題，其如何評估:測試，若價格降低/車型提升/候車時間降低/到客人密度高的地方載客，是否能提升載客量"
   ]
  }
 ],
 "metadata": {
  "kernelspec": {
   "display_name": "Python 3",
   "language": "python",
   "name": "python3"
  },
  "language_info": {
   "codemirror_mode": {
    "name": "ipython",
    "version": 3
   },
   "file_extension": ".py",
   "mimetype": "text/x-python",
   "name": "python",
   "nbconvert_exporter": "python",
   "pygments_lexer": "ipython3",
   "version": "3.7.3"
  }
 },
 "nbformat": 4,
 "nbformat_minor": 2
}
